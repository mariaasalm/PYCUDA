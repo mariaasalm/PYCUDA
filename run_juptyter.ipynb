{
  "nbformat": 4,
  "nbformat_minor": 0,
  "metadata": {
    "colab": {
      "name": "Copy of Untitled1.ipynb",
      "provenance": []
    },
    "kernelspec": {
      "name": "python3",
      "display_name": "Python 3"
    },
    "language_info": {
      "name": "python"
    }
  },
  "cells": [
    {
      "cell_type": "code",
      "metadata": {
        "id": "h7Qyg0PoYIlM"
      },
      "source": [
        "#!/usr/bin/env python\n",
        "\n",
        "import cv2\n",
        "import glob\n",
        "import numpy\n",
        "import os\n",
        "import skimage\n",
        "import skimage.metrics\n",
        "import sys\n",
        "import torch"
      ],
      "execution_count": null,
      "outputs": []
    },
    {
      "cell_type": "code",
      "metadata": {
        "id": "E4QCcIzOZTLA"
      },
      "source": [
        "##########################################################\n",
        "\n",
        "print('this benchmark script can be used to compute the Xiph metrics from our paper')\n",
        "print('please note that it uses the SepConv method for doing the actual interpolation')\n",
        "print('be aware that the script first downloads about 12 gigabytes of data from Xiph')\n",
        "print('do you want to continue with the execution of this script? [y/n]')\n",
        "\n",
        "if input().lower() != 'y':\n",
        "    sys.exit(0)\n",
        "# end\n",
        "\n",
        "##########################################################\n",
        "\n",
        "if os.path.exists('./netflix') == False:\n",
        "    os.makedirs('./netflix')\n",
        "# end\n",
        "\n",
        "if len(glob.glob('./netflix/BoxingPractice-*.png')) != 100:\n",
        "    os.system('ffmpeg -i https://media.xiph.org/video/derf/ElFuente/Netflix_BoxingPractice_4096x2160_60fps_10bit_420.y4m -pix_fmt rgb24 -vframes 100 ./netflix/BoxingPractice-%03d.png')\n",
        "# end\n",
        "\n",
        "if len(glob.glob('./netflix/Crosswalk-*.png')) != 100:\n",
        "    os.system('ffmpeg -i https://media.xiph.org/video/derf/ElFuente/Netflix_Crosswalk_4096x2160_60fps_10bit_420.y4m -pix_fmt rgb24 -vframes 100 ./netflix/Crosswalk-%03d.png')\n",
        "# end\n",
        "\n",
        "if len(glob.glob('./netflix/DrivingPOV-*.png')) != 100:\n",
        "    os.system('ffmpeg -i https://media.xiph.org/video/derf/Chimera/Netflix_DrivingPOV_4096x2160_60fps_10bit_420.y4m -pix_fmt rgb24 -vframes 100 ./netflix/DrivingPOV-%03d.png')\n",
        "# end\n",
        "\n",
        "if len(glob.glob('./netflix/FoodMarket-*.png')) != 100:\n",
        "    os.system('ffmpeg -i https://media.xiph.org/video/derf/ElFuente/Netflix_FoodMarket_4096x2160_60fps_10bit_420.y4m -pix_fmt rgb24 -vframes 100 ./netflix/FoodMarket-%03d.png')\n",
        "# end\n",
        "\n",
        "if len(glob.glob('./netflix/FoodMarket2-*.png')) != 100:\n",
        "    os.system('ffmpeg -i https://media.xiph.org/video/derf/ElFuente/Netflix_FoodMarket2_4096x2160_60fps_10bit_420.y4m -pix_fmt rgb24 -vframes 100 ./netflix/FoodMarket2-%03d.png')\n",
        "# end\n",
        "\n",
        "if len(glob.glob('./netflix/RitualDance-*.png')) != 100:\n",
        "    os.system('ffmpeg -i https://media.xiph.org/video/derf/ElFuente/Netflix_RitualDance_4096x2160_60fps_10bit_420.y4m -pix_fmt rgb24 -vframes 100 ./netflix/RitualDance-%03d.png')\n",
        "# end\n",
        "\n",
        "if len(glob.glob('./netflix/SquareAndTimelapse-*.png')) != 100:\n",
        "    os.system('ffmpeg -i https://media.xiph.org/video/derf/ElFuente/Netflix_SquareAndTimelapse_4096x2160_60fps_10bit_420.y4m -pix_fmt rgb24 -vframes 100 ./netflix/SquareAndTimelapse-%03d.png')\n",
        "# end\n",
        "\n",
        "if len(glob.glob('./netflix/Tango-*.png')) != 100:\n",
        "    os.system('ffmpeg -i https://media.xiph.org/video/derf/ElFuente/Netflix_Tango_4096x2160_60fps_10bit_420.y4m -pix_fmt rgb24 -vframes 100 ./netflix/Tango-%03d.png')\n",
        "# end\n",
        "\n",
        "##########################################################\n",
        "\n",
        "if os.path.exists('./sepconv-slomo') == False:\n",
        "    os.system('git clone https://github.com/sniklaus/sepconv-slomo')\n",
        "    os.system('cd ./sepconv-slomo && bash download.bash')\n",
        "    os.system('sed -i \"s#assert(intWidth <= 1280)##g\" ./sepconv-slomo/run.py')\n",
        "    os.system('sed -i \"s#assert(intHeight <= 720)##g\" ./sepconv-slomo/run.py')\n",
        "# end\n",
        "\n",
        "sys.path.insert(0, './sepconv-slomo')\n",
        "sys.path.insert(0, './sepconv-slomo/sepconv')\n",
        "import run\n",
        "run.arguments_strModel = 'l1'\n",
        "run.arguments_strPadding = 'paper'\n",
        "\n",
        "##########################################################\n",
        "\n",
        "for strCategory in ['resized', 'cropped']:\n",
        "    fltPsnr = []\n",
        "    fltSsim = []\n",
        "\n",
        "    for strFile in ['BoxingPractice', 'Crosswalk', 'DrivingPOV', 'FoodMarket', 'FoodMarket2', 'RitualDance', 'SquareAndTimelapse', 'Tango']:\n",
        "        for intFrame in range(2, 99, 2):\n",
        "            npyFirst = cv2.imread(filename='./netflix/' + strFile + '-' + str(intFrame - 1).zfill(3) + '.png', flags=-1)\n",
        "            npySecond = cv2.imread(filename='./netflix/' + strFile + '-' + str(intFrame + 1).zfill(3) + '.png', flags=-1)\n",
        "            npyReference = cv2.imread(filename='./netflix/' + strFile + '-' + str(intFrame).zfill(3) + '.png', flags=-1)\n",
        "\n",
        "            if strCategory == 'resized':\n",
        "                npyFirst = cv2.resize(src=npyFirst, dsize=(2048, 1080), fx=0.0, fy=0.0, interpolation=cv2.INTER_AREA)\n",
        "                npySecond = cv2.resize(src=npySecond, dsize=(2048, 1080), fx=0.0, fy=0.0, interpolation=cv2.INTER_AREA)\n",
        "                npyReference = cv2.resize(src=npyReference, dsize=(2048, 1080), fx=0.0, fy=0.0, interpolation=cv2.INTER_AREA)\n",
        "\n",
        "            elif strCategory == 'cropped':\n",
        "                npyFirst = npyFirst[540:-540, 1024:-1024, :]\n",
        "                npySecond = npySecond[540:-540, 1024:-1024, :]\n",
        "                npyReference = npyReference[540:-540, 1024:-1024, :]\n",
        "\n",
        "            # end\n",
        "\n",
        "            tenFirst = torch.FloatTensor(numpy.ascontiguousarray(npyFirst.transpose(2, 0, 1).astype(numpy.float32) * (1.0 / 255.0)))\n",
        "            tenSecond = torch.FloatTensor(numpy.ascontiguousarray(npySecond.transpose(2, 0, 1).astype(numpy.float32) * (1.0 / 255.0)))\n",
        "            \n",
        "            npyEstimate = (run.estimate(tenFirst, tenSecond).clip(0.0, 1.0).numpy().transpose(1, 2, 0) * 255.0).astype(numpy.uint8)\n",
        "\n",
        "            fltPsnr.append(skimage.metrics.peak_signal_noise_ratio(image_true=npyReference, image_test=npyEstimate, data_range=255))\n",
        "            fltSsim.append(skimage.metrics.structural_similarity(im1=npyReference, im2=npyEstimate, data_range=255, multichannel=True))\n",
        "        # end\n",
        "    # end\n",
        "\n",
        "    print('category', strCategory)\n",
        "    print('computed average psnr', numpy.mean(fltPsnr))\n",
        "    print('computed average ssim', numpy.mean(fltSsim))\n",
        "# end\n"
      ],
      "execution_count": null,
      "outputs": []
    },
    {
      "cell_type": "code",
      "metadata": {
        "colab": {
          "base_uri": "https://localhost:8080/"
        },
        "id": "lQBi47uIWhiX",
        "outputId": "45637341-a5a1-4198-e7ec-53089acc011f"
      },
      "source": [
        "cd /content/drive/MyDrive/"
      ],
      "execution_count": null,
      "outputs": [
        {
          "output_type": "stream",
          "name": "stdout",
          "text": [
            "/content/drive/MyDrive\n"
          ]
        }
      ]
    },
    {
      "cell_type": "code",
      "metadata": {
        "colab": {
          "base_uri": "https://localhost:8080/"
        },
        "id": "AUBHH21ZaERe",
        "outputId": "6bf8672e-39e7-4ca3-fd50-c93f8ca403ec"
      },
      "source": [
        "cd /content/drive/MyDrive/softmax-splatting-master/"
      ],
      "execution_count": null,
      "outputs": [
        {
          "output_type": "stream",
          "name": "stdout",
          "text": [
            "/content/drive/MyDrive/softmax-splatting-master\n"
          ]
        }
      ]
    }
  ]
}
